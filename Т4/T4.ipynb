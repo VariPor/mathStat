{
 "cells": [
  {
   "cell_type": "code",
   "execution_count": 4,
   "id": "e2385419",
   "metadata": {},
   "outputs": [],
   "source": [
    "import numpy as np\n",
    "import matplotlib.pyplot as plt\n",
    "import statistics as st\n",
    "import seaborn as sns\n",
    "from random import randint\n",
    "from scipy.stats import norm\n",
    "import math\n",
    "\n",
    "def moment(xn, k=1):\n",
    "    return sum(x ** k for x in xn) / len(xn)\n",
    "\n",
    "def get_random_indexes(n):\n",
    "    return (randint(0, n - 1) for _ in range(n))\n",
    "\n",
    "def make_bootstrap(xn, m):\n",
    "    res = []\n",
    "    for _ in range(m):\n",
    "        res.append([xn[i] for i in get_random_indexes(len(xn))])\n",
    "    return res\n",
    "\n",
    "def estimation_OMM(xn):\n",
    "    return 2 / 3 * np.mean(xn)\n",
    "\n",
    "def estimation_OMP(xn):\n",
    "    return (len(xn) + 1) * max(xn) / (2 * len(xn) + 1)\n",
    "\n",
    "def make_bootstrap_interval(xn, m, estimation, betta, name):\n",
    "    bootstrap = []\n",
    "    tetta_est = estimation(xn)\n",
    "    for _ in range(m):\n",
    "        bootstrap.append(np.random.uniform(low=tetta_est, high=2 * tetta_est, size=len(xn)))\n",
    "    var_row = []\n",
    "    for b in bootstrap:\n",
    "        var_row.append(estimation(b))\n",
    "    var_row = np.sort(np.array(var_row))\n",
    "    k1 = math.floor((1 - betta) / 2 * m)\n",
    "    k2 = math.floor((1 + betta) / 2 * m)\n",
    "    print(f'''Доверительный интервал (параметрический, bootstrap, {name}): \n",
    "                {var_row[k1]} < tetta < {var_row[k2]}''')\n",
    "    print(\"Его длина:\", var_row[k2] - var_row[k1])\n",
    "    return var_row[k1], var_row[k2]\n",
    "\n",
    "def central_moment(xn, k=2):\n",
    "    return sum((x - moment(xn, 1)) ** k for x in xn) / len(xn)\n",
    "    \n",
    "def print_characteristics(tetta, n):\n",
    "    xn = np.random.uniform(low=tetta, high=2 * tetta, size=n) \n",
    "    print(\"выборка:\", np.sort(np.array(xn)))\n",
    "    \n",
    "    betta = 0.95\n",
    "    t1 = ((1 - betta) / 2) ** (1 / n) + 1\n",
    "    t2 = ((1 + betta) / 2) ** (1 / n) + 1 \n",
    "    print(\"квантили:\", t1, t2)\n",
    "    print(\"точный доверительный интервал:\", max(xn) / t2, \"< tetta <\", max(xn) / t1)\n",
    "    print(\"Его длина:\", max(xn) / t1 - max(xn) / t2)\n",
    "    \n",
    "    am1 = 2 / 3 * np.mean(xn) - 1.96 * ((moment(xn, 2) - moment(xn) ** 2) / n) ** 0.5 * 2 / 3\n",
    "    am2 = 2 / 3 * np.mean(xn) + 1.96 * ((moment(xn, 2) - moment(xn) ** 2) / n) ** 0.5 * 2 / 3\n",
    "    print(\"асимтотический доверительный интервал ОММ:\", am1, \"< tetta <\", am2)\n",
    "    print(\"Его длина:\", am2 - am1)\n",
    "    \n",
    "    ap1 = max(xn) / 2 / (1.96 / n ** 0.5 + 1) \n",
    "    ap2 = max(xn) / 2 / (-1.96 / n ** 0.5 + 1)\n",
    "    print(\"асимтотический доверительный интервал ОМП:\", ap1, \"< tetta <\", ap2)\n",
    "    print(\"Его длина:\", ap2 - ap1)\n",
    "    \n",
    "    OMM_t1, OMM_t2 = make_bootstrap_interval(xn, 50000, estimation_OMM, 0.95, \"OMM\")\n",
    "    \n",
    "    OMP_t1, OMP_t2 = make_bootstrap_interval(xn, 50000, estimation_OMP, 0.95, \"OMP\")\n",
    "    \n",
    "    plt.grid(True)\n",
    "    plt.plot((max(xn) / t2, max(xn) / t1), (0, 0), label=\"Точный\")\n",
    "    plt.plot((am1, am2), (1, 1), label=\"асимтотический ОММ\")\n",
    "    #plt.plot((ap1, ap2), (2, 2), label=\"асимтотический ОМП\")\n",
    "    plt.plot((OMM_t1, OMM_t2), (3, 3), label= \"параметрический, bootstrap, ОММ\")\n",
    "    plt.plot((OMP_t1, OMP_t2), (4, 4), label= \"параметрический, bootstrap, ОМП\")\n",
    "    plt.legend(bbox_to_anchor=(1.05, 1.0), loc='upper left')\n",
    "    plt.tight_layout()"
   ]
  },
  {
   "cell_type": "code",
   "execution_count": 5,
   "id": "63545af4",
   "metadata": {},
   "outputs": [
    {
     "name": "stdout",
     "output_type": "stream",
     "text": [
      "выборка: [2.54769098 2.56004295 2.56698043 2.58997954 2.63332926 2.64909425\n",
      " 2.64941074 2.67394945 2.67801211 2.69214199 2.70170899 2.75896201\n",
      " 2.7882025  2.79035491 2.81867635 2.83005024 2.85701413 2.92171366\n",
      " 2.93713226 2.96562039 2.97898675 2.99321657 3.02326167 3.08805382\n",
      " 3.09834244 3.11408254 3.11856341 3.15694066 3.16020428 3.18131187\n",
      " 3.21836818 3.25985601 3.28256875 3.30321432 3.31273782 3.3157701\n",
      " 3.33775235 3.40089681 3.45253695 3.47110512 3.4920169  3.51944734\n",
      " 3.53018285 3.55050066 3.59276627 3.61685654 3.67492615 3.69283615\n",
      " 3.72748529 3.76909279 3.78664465 3.78851505 3.81856244 3.8714852\n",
      " 3.8849151  3.92475052 3.92482622 3.94173132 3.94885418 4.01973996\n",
      " 4.0322171  4.05451947 4.06514034 4.0798876  4.08411934 4.11033517\n",
      " 4.11818932 4.1949091  4.21549297 4.24547405 4.25254205 4.25862178\n",
      " 4.26523904 4.31209383 4.34921428 4.37406012 4.37977102 4.41772154\n",
      " 4.42457964 4.45865212 4.49345622 4.50767808 4.52049116 4.5325348\n",
      " 4.56474314 4.58068895 4.62539604 4.62544265 4.65304052 4.67455207\n",
      " 4.68447459 4.7317082  4.77734494 4.81650294 4.81738265 4.82878682\n",
      " 4.83625877 4.93443444 4.97321208 4.97996617]\n",
      "квантили: 1.9637833073548236 1.9997468539670225\n",
      "точный доверительный интервал: 2.490298290372644 < tetta < 2.5359041157754127\n",
      "Его длина: 0.04560582540276892\n",
      "асимтотический доверительный интервал ОММ: 2.39150190223734 < tetta < 2.579229407204866\n",
      "Его длина: 0.18772750496752622\n",
      "асимтотический доверительный интервал ОМП: 2.0819256570284908 < tetta < 3.096993887818501\n",
      "Его длина: 1.01506823079001\n",
      "Доверительный интервал (параметрический, bootstrap, OMM): \n",
      "                2.3916412208304783 < tetta < 2.5784299295440114\n",
      "Его длина: 0.18678870871353315\n",
      "Доверительный интервал (параметрический, bootstrap, OMP): \n",
      "                2.468365738240527 < tetta < 2.5144929119860335\n",
      "Его длина: 0.04612717374550668\n"
     ]
    },
    {
     "data": {
      "image/png": "[encoded data removed]",
      "text/plain": [
       "<Figure size 432x288 with 1 Axes>"
      ]
     },
     "metadata": {
      "needs_background": "light"
     },
     "output_type": "display_data"
    }
   ],
   "source": [
    "print_characteristics(25, 100)"
   ]
  },
  {
   "cell_type": "code",
   "execution_count": null,
   "id": "fe212201",
   "metadata": {},
   "outputs": [],
   "source": []
  },
  {
   "cell_type": "code",
   "execution_count": null,
   "id": "d3924a92",
   "metadata": {},
   "outputs": [],
   "source": []
  }
 ],
 "metadata": {
  "kernelspec": {
   "display_name": "Python 3 (ipykernel)",
   "language": "python",
   "name": "python3"
  },
  "language_info": {
   "codemirror_mode": {
    "name": "ipython",
    "version": 3
   },
   "file_extension": ".py",
   "mimetype": "text/x-python",
   "name": "python",
   "nbconvert_exporter": "python",
   "pygments_lexer": "ipython3",
   "version": "3.9.12"
  }
 },
 "nbformat": 4,
 "nbformat_minor": 5
}
