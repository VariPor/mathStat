{
 "cells": [
  {
   "cell_type": "code",
   "execution_count": 1,
   "id": "78a264c3",
   "metadata": {},
   "outputs": [],
   "source": [
    "import numpy as np\n",
    "import matplotlib.pyplot as plt\n",
    "import statistics as st\n",
    "import seaborn as sns\n",
    "from random import randint\n",
    "from scipy.stats import norm\n",
    "\n",
    "def moment(xn, k=1):\n",
    "    return sum(x ** k for x in xn) / len(xn)\n",
    "\n",
    "def central_moment(xn, k=2):\n",
    "    return sum((x - moment(xn, 1)) ** k for x in xn) / len(xn)\n",
    "\n",
    "def low_quantile(xn):\n",
    "    a = np.sort(xn)\n",
    "    return np.median(a[:len(xn) // 2])\n",
    "\n",
    "def high_quantile(xn):\n",
    "    a = np.sort(xn)\n",
    "    return np.median(a[(len(xn) + 1) // 2:])\n",
    "\n",
    "def get_aver(xn):\n",
    "    return sum(xn) / len(xn)\n",
    "\n",
    "def print_emp_func(xn):\n",
    "    delta = (max(xn) - min(xn)) / len(xn)\n",
    "    dots =  np.sort(xn)\n",
    "    func = [i / len(xn) for i in range(len(dots))]\n",
    "    plt.step(dots, func, \"-\", where=\"post\")\n",
    "    plt.show()\n",
    "    \n",
    "def print_characteristics(xn):\n",
    "    print(\"выборка:\", np.sort(np.array(xn)))\n",
    "    \n",
    "    xn_mode = st.mode(xn)\n",
    "    print(\"мода - все числа\")\n",
    "    \n",
    "    xn_med = np.median(xn)\n",
    "    print(\"медиана:\", xn_med)\n",
    "    \n",
    "    xn_scope = max(xn) - min(xn)\n",
    "    print(\"размах:\", xn_scope)\n",
    "    \n",
    "    asymmetry_coefficient = central_moment(xn, 3) / (central_moment(xn, 2)) ** (3 / 2)\n",
    "    print(\"коэффициент ассимметрии:\", asymmetry_coefficient)\n",
    "    \n",
    "    q1 = low_quantile(xn)\n",
    "    q2 = high_quantile(xn)\n",
    "    print(\"квантили:\", q1, q2)\n",
    "    eps = q2 - q1\n",
    "    print(\"epsilon:\", eps)\n",
    "    low = q1 - 1.5*eps\n",
    "    high = q2 + 1.5*eps\n",
    "    print(\"границы выбросов:\", low, high)\n",
    "    print(\"выбросы:\", *[x for x in xn if (x < low or x > high)])\n",
    "    sns.boxplot(x = xn)\n",
    "    \n",
    "def print_hist(xn):\n",
    "    xn = np.array(xn)\n",
    "    k = 1 + int(np.log2(len(xn)))\n",
    "    delta = ((max(xn) - min(xn)) / k) * 1.01 # *1,01 чтобы учесть и последний элемент \n",
    "    dots = [min(xn) + i * delta for i in range(k + 1)]\n",
    "    hights = [((xn >= dots[i]) & (xn < dots[i + 1])).sum() / len(xn) / delta for i in range(k)]\n",
    "    dots = [(dots[i] + dots[i + 1]) / 2 for i in range(k)]\n",
    "    plt.bar(dots, hights, width=delta)\n",
    "    \n",
    "    print(\"Для гистограммы:\")\n",
    "    print(\"k =\", k)\n",
    "    print(\"delta =\", delta)\n",
    "    \n",
    "def get_random_indexes(n):\n",
    "    return (randint(0, n - 1) for _ in range(n))\n",
    "\n",
    "def make_bootstrap(xn):\n",
    "    res = []\n",
    "    for _ in range(1000):\n",
    "        res.append([xn[i] for i in get_random_indexes(len(xn))])\n",
    "    return res\n",
    "\n",
    "def show_aver(xn, bootstrap, average, sigma):\n",
    "    bootstrap_aver = []\n",
    "    for b in bootstrap:\n",
    "        bootstrap_aver.append(get_aver(b))\n",
    "    \n",
    "    print_hist(bootstrap_aver)\n",
    "    x = np.arange(min(bootstrap_aver), max(bootstrap_aver), 0.005)\n",
    "\n",
    "    plt.plot(x, norm.pdf(x, average, sigma), color=\"green\")\n",
    "    plt.show()\n",
    "    \n",
    "def show_assym(bootstrap):\n",
    "    bootstrap_assym = []\n",
    "    for b in bootstrap:\n",
    "        bootstrap_assym.append(central_moment(b, 3) / (central_moment(b, 2)) ** (3 / 2))\n",
    "    print_hist(bootstrap_assym)\n",
    "    \n",
    "def x13(x):\n",
    "    return 25 * 2704156 * np.exp(-13 * x) * (1 - np.exp(-x)) ** 12\n",
    "\n",
    "def show_median(xn, bootstrap):\n",
    "    bootstrap_med = []\n",
    "    for b in bootstrap:\n",
    "        bootstrap_med.append(np.median(b))\n",
    "    print_hist(bootstrap_med)\n",
    "    \n",
    "    x_coord = np.linspace(min(bootstrap_med), max(bootstrap_med), 100)\n",
    "    y_coord = x13(x_coord)\n",
    "\n",
    "    plt.plot(x_coord, y_coord, color=\"green\")\n",
    "    \n",
    "    plt.show()"
   ]
  },
  {
   "cell_type": "code",
   "execution_count": 2,
   "id": "6b13ca6f",
   "metadata": {},
   "outputs": [],
   "source": [
    "n = 25\n",
    "xn = np.random.default_rng().exponential(scale=1, size=n)"
   ]
  },
  {
   "cell_type": "code",
   "execution_count": 3,
   "id": "772eff88",
   "metadata": {},
   "outputs": [],
   "source": [
    "xn = [0.14738734, 0.08086307, 0.37801622, 3.68483814, 0.78685172,\n",
    "       0.12510645, 0.62826376, 0.14915962, 2.54695919, 0.11675926,\n",
    "       0.43226717, 1.15933139, 1.75903136, 0.11943053, 1.48449307,\n",
    "       1.20108885, 1.2577196 , 0.31222159, 0.10706475, 0.62118269,\n",
    "       0.22205677, 0.59382512, 7.20164944, 0.04247834, 0.62661706] # выборка"
   ]
  },
  {
   "cell_type": "code",
   "execution_count": 4,
   "id": "7b86baa4",
   "metadata": {},
   "outputs": [
    {
     "name": "stdout",
     "output_type": "stream",
     "text": [
      "выборка: [0.04247834 0.08086307 0.10706475 0.11675926 0.11943053 0.12510645\n",
      " 0.14738734 0.14915962 0.22205677 0.31222159 0.37801622 0.43226717\n",
      " 0.59382512 0.62118269 0.62661706 0.62826376 0.78685172 1.15933139\n",
      " 1.20108885 1.2577196  1.48449307 1.75903136 2.54695919 3.68483814\n",
      " 7.20164944]\n",
      "мода - все числа\n",
      "медиана: 0.59382512\n",
      "размах: 7.1591711\n",
      "коэффициент ассимметрии: 2.8454073580813746\n",
      "квантили: 0.136246895 1.2294042250000001\n",
      "epsilon: 1.0931573300000001\n",
      "границы выбросов: -1.5034891000000001 2.8691402200000002\n",
      "выбросы: 3.68483814 7.20164944\n"
     ]
    },
    {
     "data": {
      "image/png": "[encoded data removed]",
      "text/plain": [
       "<Figure size 432x288 with 1 Axes>"
      ]
     },
     "metadata": {
      "needs_background": "light"
     },
     "output_type": "display_data"
    }
   ],
   "source": [
    "print_characteristics(xn)"
   ]
  },
  {
   "cell_type": "code",
   "execution_count": 5,
   "id": "e9fb01ff",
   "metadata": {},
   "outputs": [
    {
     "data": {
      "image/png": "[encoded data removed]",
      "text/plain": [
       "<Figure size 432x288 with 1 Axes>"
      ]
     },
     "metadata": {
      "needs_background": "light"
     },
     "output_type": "display_data"
    }
   ],
   "source": [
    "print_emp_func(xn)"
   ]
  },
  {
   "cell_type": "code",
   "execution_count": 6,
   "id": "b265f297",
   "metadata": {},
   "outputs": [
    {
     "name": "stdout",
     "output_type": "stream",
     "text": [
      "Для гистограммы:\n",
      "k = 5\n",
      "delta = 1.4461525622\n"
     ]
    },
    {
     "data": {
      "image/png": "[encoded data removed]",
      "text/plain": [
       "<Figure size 432x288 with 1 Axes>"
      ]
     },
     "metadata": {
      "needs_background": "light"
     },
     "output_type": "display_data"
    }
   ],
   "source": [
    "print_hist(xn)"
   ]
  },
  {
   "cell_type": "code",
   "execution_count": 7,
   "id": "e21ad645",
   "metadata": {},
   "outputs": [],
   "source": [
    "bootstrap = make_bootstrap(xn)"
   ]
  },
  {
   "cell_type": "code",
   "execution_count": 8,
   "id": "dfeddd19",
   "metadata": {},
   "outputs": [
    {
     "name": "stdout",
     "output_type": "stream",
     "text": [
      "Для гистограммы:\n",
      "k = 10\n",
      "delta = 0.1970546739356\n"
     ]
    },
    {
     "data": {
      "image/png": "[encoded data removed]",
      "text/plain": [
       "<Figure size 432x288 with 1 Axes>"
      ]
     },
     "metadata": {
      "needs_background": "light"
     },
     "output_type": "display_data"
    }
   ],
   "source": [
    "show_aver(xn, bootstrap, 1, 1/5)"
   ]
  },
  {
   "cell_type": "code",
   "execution_count": 9,
   "id": "7894bada",
   "metadata": {},
   "outputs": [
    {
     "name": "stdout",
     "output_type": "stream",
     "text": [
      "Для гистограммы:\n",
      "k = 10\n",
      "delta = 0.4262994747231649\n"
     ]
    },
    {
     "data": {
      "image/png": "[encoded data removed]",
      "text/plain": [
       "<Figure size 432x288 with 1 Axes>"
      ]
     },
     "metadata": {
      "needs_background": "light"
     },
     "output_type": "display_data"
    }
   ],
   "source": [
    "show_assym(bootstrap)"
   ]
  },
  {
   "cell_type": "code",
   "execution_count": 10,
   "id": "d04ba157",
   "metadata": {},
   "outputs": [
    {
     "name": "stdout",
     "output_type": "stream",
     "text": [
      "Для гистограммы:\n",
      "k = 10\n",
      "delta = 0.13814111481\n"
     ]
    },
    {
     "data": {
      "image/png": "[encoded data removed]",
      "text/plain": [
       "<Figure size 432x288 with 1 Axes>"
      ]
     },
     "metadata": {
      "needs_background": "light"
     },
     "output_type": "display_data"
    }
   ],
   "source": [
    "show_median(xn, bootstrap)"
   ]
  },
  {
   "cell_type": "code",
   "execution_count": null,
   "id": "5624b6e3",
   "metadata": {},
   "outputs": [],
   "source": []
  },
  {
   "cell_type": "code",
   "execution_count": null,
   "id": "1849d2f7",
   "metadata": {},
   "outputs": [],
   "source": []
  }
 ],
 "metadata": {
  "kernelspec": {
   "display_name": "Python 3 (ipykernel)",
   "language": "python",
   "name": "python3"
  },
  "language_info": {
   "codemirror_mode": {
    "name": "ipython",
    "version": 3
   },
   "file_extension": ".py",
   "mimetype": "text/x-python",
   "name": "python",
   "nbconvert_exporter": "python",
   "pygments_lexer": "ipython3",
   "version": "3.9.12"
  }
 },
 "nbformat": 4,
 "nbformat_minor": 5
}
