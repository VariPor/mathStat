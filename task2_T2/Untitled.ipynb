{
 "cells": [
  {
   "cell_type": "code",
   "execution_count": 2,
   "id": "a7c70ac8",
   "metadata": {},
   "outputs": [],
   "source": [
    "Y = [83, 85, 84, 85, 85, 86, 86, 87, 86, \n",
    "     87, 87, 87, 88, 88, 88, 88, 88, 89, \n",
    "     90, 89, 90, 90, 91, 90, 92]\n",
    "Psi = [(1, 0, 0, 0, 0) for _ in range(2)] + [(0, 1, 0, 0, 0) for _ in range(6)] + \\\n",
    "        [(0, 0, 1, 0, 0) for _ in range(11)] + [(0, 0, 0, 1, 0) for _ in range(4)] + \\\n",
    "        [(0, 0, 0, 0, 1) for _ in range(2)]\n"
   ]
  },
  {
   "cell_type": "code",
   "execution_count": 22,
   "id": "2545a785",
   "metadata": {},
   "outputs": [],
   "source": [
    "import numpy as np\n",
    "from scipy.stats import t\n",
    "import matplotlib.pyplot as plt\n",
    "\n",
    "\n",
    "def make_regression(Psi, Y):\n",
    "    Psi = np.array(Psi)\n",
    "    Y = np.array(Y)\n",
    "    F = np.dot(Psi.transpose(), Psi)\n",
    "    F_1 = np.linalg.inv(F)\n",
    "    betta_est = np.dot(np.dot(F_1, Psi.transpose()), Y)\n",
    "    e = np.dot(Psi, betta_est) - Y\n",
    "    RSS = np.dot(e.transpose(), e)\n",
    "    return betta_est, RSS, F"
   ]
  },
  {
   "cell_type": "code",
   "execution_count": 14,
   "id": "83041517",
   "metadata": {},
   "outputs": [
    {
     "name": "stdout",
     "output_type": "stream",
     "text": [
      "F = [[ 2  0  0  0  0]\n",
      " [ 0  6  0  0  0]\n",
      " [ 0  0 11  0  0]\n",
      " [ 0  0  0  4  0]\n",
      " [ 0  0  0  0  2]]\n",
      "betta_est = [84.         85.5        87.81818182 90.         91.        ]\n",
      "RSS = 23.136363636363637\n",
      "TSS = 122.16\n",
      "R**2 = 0.8106060606060606\n"
     ]
    }
   ],
   "source": [
    "betta_est, RSS, F = make_regression(Psi, Y)\n",
    "print(\"F =\", F)\n",
    "F_1 = np.linalg.inv(F)\n",
    "print(\"betta_est =\", betta_est)\n",
    "print(\"RSS =\", RSS)\n",
    "y_aver = sum(Y) / len(Y)\n",
    "TSS = sum([(y - y_aver) ** 2 for y in Y])\n",
    "print(\"TSS =\", TSS)\n",
    "print(\"R**2 =\", (TSS - RSS) / TSS)"
   ]
  },
  {
   "cell_type": "code",
   "execution_count": 20,
   "id": "ae97e8f2",
   "metadata": {},
   "outputs": [
    {
     "name": "stdout",
     "output_type": "stream",
     "text": [
      "[1.70806477196444]\n",
      "[4.618104080188217, 4.246806265625998]\n",
      "[6.441515642463517, 6.481650084604495, 3.474295168162988]\n",
      "[6.5082688827896185, 6.262904163869613, 3.848420066823525, 1.073585940410586]\n"
     ]
    }
   ],
   "source": [
    "deltas = []\n",
    "n = 25\n",
    "p = 5\n",
    "for i in range(1, 5):\n",
    "    d = []\n",
    "    for j in range(i):\n",
    "        d.append(abs(betta_est[i] - betta_est[j]) / (RSS * (F_1[i][i] + F_1[j][j])) ** 0.5 \\\n",
    "                 * (n - p) ** 0.5)\n",
    "    deltas.append(d)\n",
    "print(*deltas, sep=\"\\n\")"
   ]
  },
  {
   "cell_type": "code",
   "execution_count": 35,
   "id": "ef55199a",
   "metadata": {},
   "outputs": [
    {
     "name": "stdout",
     "output_type": "stream",
     "text": [
      "[0.10310040890082361]\n",
      "[0.0001662014487755492, 0.00039504010033408754]\n",
      "[2.7821115005099983e-06, 2.5534724907849693e-06, 0.0023933387043622023]\n",
      "[2.4125702768884594e-06, 4.085183105129175e-06, 0.0010025629060046448, 0.29579135227474707]\n"
     ]
    }
   ],
   "source": [
    "p_values_print = []\n",
    "p_values = []\n",
    "for i in range(1, 5):\n",
    "    p_v = []\n",
    "    for j in range(i):\n",
    "        p_v.append(2 * (1 - t.cdf(deltas[i - 1][j], n - p)))\n",
    "        p_values.append(2 * (1 - t.cdf(deltas[i - 1][j], n - p)))\n",
    "    p_values_print.append(p_v)\n",
    "print(*p_values_print, sep='\\n')\n"
   ]
  },
  {
   "cell_type": "code",
   "execution_count": 34,
   "id": "289efac8",
   "metadata": {},
   "outputs": [
    {
     "name": "stdout",
     "output_type": "stream",
     "text": [
      "p_value = 2.4125702768884594e-06 < alpha / m = 0.005, bi != bj\n",
      "p_value = 2.5534724907849693e-06 < alpha / m = 0.005555555555555556, bi != bj\n",
      "p_value = 2.7821115005099983e-06 < alpha / m = 0.00625, bi != bj\n",
      "p_value = 4.085183105129175e-06 < alpha / m = 0.0071428571428571435, bi != bj\n",
      "p_value = 0.0001662014487755492 < alpha / m = 0.008333333333333333, bi != bj\n",
      "p_value = 0.00039504010033408754 < alpha / m = 0.01, bi != bj\n",
      "p_value = 0.0010025629060046448 < alpha / m = 0.0125, bi != bj\n",
      "p_value = 0.0023933387043622023 < alpha / m = 0.016666666666666666, bi != bj\n",
      "p_value = 0.10310040890082361 > alpha / m = 0.025, bi == bj\n",
      "p_value = 0.29579135227474707 > alpha / m = 0.025, bi == bj\n"
     ]
    }
   ],
   "source": [
    "p_values = sorted(p_values)\n",
    "m = len(p_values)\n",
    "alpha = 0.05\n",
    "for i in range(len(p_values)):\n",
    "    if p_values[i] < alpha / m:\n",
    "        print(f\"p_value = {p_values[i]} < alpha / m = {alpha / m}, bi != bj\")\n",
    "        m -= 1\n",
    "    else:\n",
    "        print(f\"p_value = {p_values[i]} > alpha / m = {alpha / m}, bi == bj\")"
   ]
  },
  {
   "cell_type": "code",
   "execution_count": null,
   "id": "5c25b5ed",
   "metadata": {},
   "outputs": [],
   "source": []
  }
 ],
 "metadata": {
  "kernelspec": {
   "display_name": "Python 3 (ipykernel)",
   "language": "python",
   "name": "python3"
  },
  "language_info": {
   "codemirror_mode": {
    "name": "ipython",
    "version": 3
   },
   "file_extension": ".py",
   "mimetype": "text/x-python",
   "name": "python",
   "nbconvert_exporter": "python",
   "pygments_lexer": "ipython3",
   "version": "3.9.12"
  }
 },
 "nbformat": 4,
 "nbformat_minor": 5
}
