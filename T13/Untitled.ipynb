{
 "cells": [
  {
   "cell_type": "code",
   "execution_count": 2,
   "id": "8705ed2c",
   "metadata": {},
   "outputs": [],
   "source": [
    "zn = [-1.11, -6.1, 2.42]\n",
    "ym = [-2.29, -2.91]\n",
    "alpha = 0.05"
   ]
  },
  {
   "cell_type": "code",
   "execution_count": 3,
   "id": "0c2fa107",
   "metadata": {},
   "outputs": [
    {
     "name": "stdout",
     "output_type": "stream",
     "text": [
      "z_average = -1.5966666666666667\n",
      "y_average = -2.6\n",
      "delta_est1 = 0.9289061667717935\n",
      "S2(z) = 6.10841111111111 S2(y) = 0.09610000000000003\n",
      "delta_est2 = 0.6949873435043147\n"
     ]
    }
   ],
   "source": [
    "import numpy as np\n",
    "from scipy.stats import moment\n",
    "\n",
    "def S_2(x):\n",
    "    return moment(x, 2) / (len(x) - 1)\n",
    "\n",
    "z_average = np.mean(zn)\n",
    "y_average = np.mean(ym)\n",
    "sigma2_z = 2\n",
    "sigma2_y = 1\n",
    "\n",
    "print(\"z_average =\", z_average)\n",
    "print(\"y_average =\", y_average)\n",
    "\n",
    "delta_est1 = (z_average - y_average) / (sigma2_y / len(ym) + sigma2_z / len(zn)) ** 0.5\n",
    "print(\"delta_est1 =\", delta_est1)\n",
    "\n",
    "S2_z = S_2(zn) \n",
    "S2_y = S_2(ym) \n",
    "print(\"S2(z) =\", S2_z, \"S2(y) =\", S2_y)\n",
    "\n",
    "delta_est2 = (z_average - y_average) / (S2_y / len(ym) + S2_z / len(zn)) ** 0.5\n",
    "print(\"delta_est2 =\", delta_est2)"
   ]
  },
  {
   "cell_type": "code",
   "execution_count": 5,
   "id": "5473da91",
   "metadata": {},
   "outputs": [
    {
     "name": "stdout",
     "output_type": "stream",
     "text": [
      "a > b: p_value = 0.24353161664464673\n",
      "a < b: p_value = 0.7564683833553542\n",
      "a != b: p_value = 0.48706323328929346\n"
     ]
    }
   ],
   "source": [
    "import scipy.integrate as spi\n",
    "\n",
    "def p(x):\n",
    "    return np.exp(-x ** 2 / 2) / (2 * np.pi) ** 0.5\n",
    "\n",
    "p_value1 = spi.quad(p, delta_est2, np.inf)[0]\n",
    "print(\"a > b: p_value =\", p_value1)\n",
    "\n",
    "p_value2 = spi.quad(p, -np.inf, delta_est2)[0]\n",
    "print(\"a < b: p_value =\", p_value2)\n",
    "\n",
    "p_value3 = spi.quad(p, -np.inf, -delta_est2)[0] + spi.quad(p, delta_est2, np.inf)[0]\n",
    "print(\"a != b: p_value =\", p_value3)"
   ]
  },
  {
   "cell_type": "code",
   "execution_count": null,
   "id": "cc9f232d",
   "metadata": {},
   "outputs": [],
   "source": []
  }
 ],
 "metadata": {
  "kernelspec": {
   "display_name": "Python 3 (ipykernel)",
   "language": "python",
   "name": "python3"
  },
  "language_info": {
   "codemirror_mode": {
    "name": "ipython",
    "version": 3
   },
   "file_extension": ".py",
   "mimetype": "text/x-python",
   "name": "python",
   "nbconvert_exporter": "python",
   "pygments_lexer": "ipython3",
   "version": "3.9.12"
  }
 },
 "nbformat": 4,
 "nbformat_minor": 5
}
