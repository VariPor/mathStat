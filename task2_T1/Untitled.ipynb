{
 "cells": [
  {
   "cell_type": "code",
   "execution_count": 46,
   "id": "b9f5b3f1",
   "metadata": {},
   "outputs": [],
   "source": [
    "import numpy as np\n",
    "from scipy.stats import uniform, norm, t, f, kstest\n",
    "import matplotlib.pyplot as plt\n",
    "import random\n",
    "\n",
    "def make_selection(N = 50):\n",
    "    selection = []\n",
    "    for _ in range(N):\n",
    "        element = []\n",
    "        for _ in range(5):\n",
    "            element.append(uniform.rvs(-1, 2))\n",
    "        element.append(norm.rvs(2 + 3 * element[0] - 2 * element[1] + element[2] + \\\n",
    "                       element[3] - element[4], 1.5))\n",
    "        selection.append(element)\n",
    "    return np.array(selection)\n",
    "\n",
    "def print_selection(selection):\n",
    "    print(\"Выборка:\")\n",
    "    for s in selection:\n",
    "        for e in s:\n",
    "            print(round(e, 4), end=\" \")\n",
    "        print()\n",
    "\n",
    "def make_regression(ksi, Y):\n",
    "    # нахождение коэффициентов регрессии\n",
    "    Psi = []\n",
    "    for i in range(len(ksi)):\n",
    "        Psi.append([1] + [ksi[i][j] for j in range(len(ksi[i]))])\n",
    "    Psi = np.array(Psi)\n",
    "    Y = np.array(Y)\n",
    "    F = np.dot(Psi.transpose(), Psi)\n",
    "    F_1 = np.linalg.inv(F)\n",
    "    betta_est = np.dot(np.dot(F_1, Psi.transpose()), Y)\n",
    "    e = np.dot(Psi, betta_est) - Y\n",
    "    RSS = np.dot(e.transpose(), e)\n",
    "    return betta_est, RSS, F\n",
    "\n",
    "def significance_regression_coefficients(betta_est, n, RSS, F):\n",
    "    p = len(betta_est)\n",
    "    F_1 = np.linalg.inv(F)\n",
    "    p_values = []\n",
    "    for i in range(p):\n",
    "        delta = betta_est[i] / (RSS * F_1[i][i]) ** 0.5 * (n - p) ** 0.5\n",
    "        p_value = t.cdf(-abs(delta), n - p) * 2\n",
    "        p_values.append(p_value)\n",
    "    \n",
    "    n = len(betta_est)\n",
    "    pairs = dict(zip(p_values, zip(betta_est, [i for i in range(1, n + 1)])))\n",
    "    alpha = 0.05\n",
    "    for p_value in sorted(list(pairs.keys())):\n",
    "        if p_value > alpha / n:\n",
    "            print(f\"\"\"Коэффициент регрессии: {round(pairs[p_value][0], 3)}, номер: {pairs[p_value][1]},\n",
    "                p-value = {round(p_value, 10)}, alpha = {round(alpha / n, 4)}: значим\"\"\")\n",
    "        else:\n",
    "            print(f\"\"\"Коэффициент регрессии: {round(pairs[p_value][0], 3)}, номер: {pairs[p_value][1]}, \n",
    "                p-value = {round(p_value, 10)}, alpha = {round(alpha / n, 4)}: не значим\"\"\")\n",
    "            n -= 1\n",
    "        \n",
    "    return p_values\n",
    "\n",
    "\n",
    "def check_multicollinearity(ksi):\n",
    "    ksi = np.array(ksi)\n",
    "    for i in range(len(ksi[0])):\n",
    "        ksi_i = np.delete(ksi, i, 1)\n",
    "        y = ksi[:, i]\n",
    "        betta_est, RSS, F = make_regression(ksi_i, y)\n",
    "        y_aver = sum(y) / len(y)\n",
    "        TSS = sum([(u - y_aver) ** 2 for u in y])\n",
    "        R_2 = (TSS - RSS) / TSS\n",
    "        print(\"Переменная номер\", i + 1, \", R**2 =\", round(R_2, 3), end=\", \")\n",
    "        if R_2 < 0.7:\n",
    "            print(\"не\", end=\" \")   \n",
    "        print(\"существенно связана с остальными\")\n",
    "        \n",
    "def check_regression_significance(Y, RSS, n, p):\n",
    "    y_aver = sum(Y) / len(Y)\n",
    "    TSS = sum([(y - y_aver) ** 2 for y in Y])\n",
    "    R_2 = (TSS - RSS) / TSS\n",
    "    delta = R_2 / (1 - R_2) * (n - p) / (p - 1)\n",
    "    p_value = 1 - f.cdf(delta, p - 1, n - p)\n",
    "    print(f\"Значимость регресии: delta = {delta}, p-value = {p_value}\")\n",
    "    print(\"Коэффициент детерминации:\", R_2)\n",
    "    \n",
    "def forecast(x0, betta_est, F, n, p, RSS):\n",
    "    Psi0 = np.array(([1] + [x for x in x0]))\n",
    "    y0 = np.dot(Psi0, betta_est)\n",
    "    F_1 = np.linalg.inv(F) # ?????\n",
    "    kappa = (1 + np.dot(np.dot(Psi0, F_1), Psi0.transpose())) ** 0.5\n",
    "    quartile = t.ppf(0.975, n - p)\n",
    "    temp = kappa * RSS ** 0.5 / (n - p) ** 0.5\n",
    "    a = y0 - quartile * temp\n",
    "    b = y0 + quartile * temp\n",
    "    print(f\"Прогноз: y0 = {y0}, доверительный интервал: {round(a, 3)} < etta0 < {round(b, 3)}\")\n",
    "    \n",
    "def check_randomness_errors(Y, ksi, betta_est, n):\n",
    "    e = []\n",
    "    for i in range(len(Y)):\n",
    "        ei = Y[i] - betta_est[0] - np.dot(betta_est[1:], ksi[0])\n",
    "        e.append(ei)\n",
    "    I = 0\n",
    "    for i in range(len(e)):\n",
    "        for j in range(i):\n",
    "            if e[j] > e[i]:\n",
    "                I += 1\n",
    "    delta = (I - n * (n - 1) / 4) / (n ** 3 / 36) ** 0.5\n",
    "    p_value = 1 - norm.cdf(delta)\n",
    "    print(f\"\"\"Гипотеза о случайности ошибок измерения: \n",
    "            p-value = {p_value}, delta = {delta}, I = {I}\n",
    "            H0: выборка получена из одного закона рспределения и элементы независимы\"\"\")\n",
    "    \n",
    "def emp_func(xn):\n",
    "    delta = (max(xn) - min(xn)) / len(xn)\n",
    "    dots =  sorted(xn)\n",
    "    func = [i / len(xn) for i in range(len(dots))]\n",
    "    return dict(zip(dots, func))\n",
    "\n",
    "def K(x, k):\n",
    "    res = 1\n",
    "    for i in range(k):\n",
    "        res += 2 * (-1) ** k * np.exp(-2 * k ** 2 * x ** 2)\n",
    "    return res\n",
    "    \n",
    "def check_normality_errors(Y, n):\n",
    "    e = []\n",
    "    for i in range(len(Y)):\n",
    "        ei = Y[i] - betta_est[0] - np.dot(betta_est[1:], ksi[0])\n",
    "        e.append(ei)\n",
    "    plt.scatter(Y, e)\n",
    "        \n",
    "    e_aver = sum(e) / len(e)\n",
    "    sigma_est = (sum([(ei - e_aver) ** 2 for ei in e]) / (n - 1)) ** 0.5\n",
    "    dots_func = emp_func(e)\n",
    "    delta = n ** 0.5 * max([abs(dots_func[ei] - norm.cdf(ei, 0, sigma_est)) for ei in e])\n",
    "    p_value = 1 - K(delta, 1000)\n",
    "    print(f\"\"\"Гипотеза о нормальности ошибок измерения: \n",
    "            p-value = {p_value}, delta = {delta}, sigma_est = {sigma_est}\n",
    "            H0: ошибки имеют нормальный закон распределения с параметрами (0, sigma ** 2)\"\"\")\n",
    "    print(\"p-value =\", kstest(e, norm.cdf, args=(0, sigma_est))[1])\n",
    "    \n",
    "def cross_validation(Y, ksi):\n",
    "    CVSS = []\n",
    "    ksi = np.array(ksi)\n",
    "    Y = np.array(Y)\n",
    "    for i in range(len(Y)):\n",
    "        betta_est, RSS, F = make_regression(np.delete(ksi, i, 0), np.delete(Y, i, 0))\n",
    "        Psi0 = np.array(([1] + [x for x in ksi[i]]))\n",
    "        y0 = np.dot(Psi0, betta_est)\n",
    "        CVSS.append((Y[i] - y0) ** 2)\n",
    "    print(\"Кросс-проверка\")\n",
    "    print(\"CVSS =\", sum(CVSS))\n",
    "    \n",
    "    y_aver = sum(Y) / len(Y)\n",
    "    TSS = sum([(y - y_aver) ** 2 for y in Y])\n",
    "    print(\"R_CV ** 2 =\", (TSS - sum(CVSS)) / TSS)\n",
    "    \n",
    "def check_adequacy(RSS, n, p, k=5):\n",
    "    dot = []\n",
    "    for _ in range(5):\n",
    "        dot.append(uniform.rvs(-1, 2))\n",
    "    y = []\n",
    "    for _ in range(k):\n",
    "        y.append(norm.rvs(2 + 3 * dot[0] - 2 * dot[1] +dot[2] + \\\n",
    "                   dot[3] - dot[4], 1.5))\n",
    "    y_aver = sum(y) / len(y)\n",
    "    S_2 = sum([(y_aver - yi) ** 2 for yi in y]) / (k - 1)\n",
    "    delta = RSS / (n - p) / S_2\n",
    "    p_value = 1 - f.cdf(delta, n - p, k - 1)\n",
    "    print(f\"Проверка адекватности: delta = {delta}, p-value = {p_value}\")\n",
    "    \n",
    "def del_var(selection, var_num, N):\n",
    "    Y = [selection[i][-1] for i in range(len(selection))]\n",
    "    selection = np.delete(np.array(selection), var_num, 1)\n",
    "    ksi = np.delete(np.array(selection), len(selection[0]) - 1, 1)\n",
    "    betta_est, RSS, F = make_regression(ksi, Y)\n",
    "    print(\"Оценка коэффициентов регрессии:\")\n",
    "    print(betta_est)\n",
    "    significance_regression_coefficients(betta_est, N, RSS, F)\n",
    "    check_regression_significance(Y, RSS, N, len(ksi[0]))\n",
    "    return RSS\n",
    "    \n",
    "def compare_regressions(RSS0, RSS1, n, p0, p1):\n",
    "    delta = (RSS0 - RSS1) / RSS1 * (n - p1) / (p1 - p0)\n",
    "    p_value = 1 - f.cdf(delta, p1 - p0, n - p1)\n",
    "    print(f\"Сравнение двух регрессий: delta = {delta}, p_value = {p_value}\")\n",
    "    \n",
    "def compare_regressions_bootstrap(selection, var_num, N=1000):\n",
    "    selection0 = np.delete(np.array(selection), var_num, 1)\n",
    "    deltas = []\n",
    "    n = len(selection)\n",
    "    for _ in range(N):\n",
    "        numbers = []\n",
    "        for _ in range(n):\n",
    "            numbers.append(random.randint(0, n - 1))\n",
    "            \n",
    "        temp_select = [selection[i] for i in numbers]\n",
    "        temp_select0 = [selection0[i] for i in numbers]\n",
    "        \n",
    "        Y = [temp_select[i][-1] for i in range(len(temp_select))]\n",
    "        ksi = [[e for e in s[:-1]] for s in temp_select]\n",
    "        Y0 = [temp_select0[i][-1] for i in range(len(temp_select0))]\n",
    "        ksi0 = [[e for e in s[:-1]] for s in temp_select0]\n",
    "        \n",
    "        betta_est, RSS, F = make_regression(ksi, Y)\n",
    "        betta_est0, RSS0, F0 = make_regression(ksi0, Y0)\n",
    "        \n",
    "        p1 = len(temp_select[0])\n",
    "        p0 = len(temp_select0[0])\n",
    "        \n",
    "        deltas.append((RSS0 - RSS) / RSS * (n - p1) / (p1 - p0))\n",
    "        \n",
    "    deltas = sorted(deltas)\n",
    "    \n",
    "    Y = [selection[i][-1] for i in range(len(selection))]\n",
    "    ksi = [[e for e in s[:-1]] for s in selection]\n",
    "    Y0 = [selection0[i][-1] for i in range(len(selection0))]\n",
    "    ksi0 = [[e for e in s[:-1]] for s in selection0]\n",
    "    betta_est, RSS, F = make_regression(ksi, Y)\n",
    "    betta_est0, RSS0, F0 = make_regression(ksi0, Y0)\n",
    "        \n",
    "    p1 = len(selection[0])\n",
    "    p0 = len(selection0[0])\n",
    "    \n",
    "    delta = (RSS0 - RSS) / RSS * (n - p1) / (p1 - p0)\n",
    "    p_value = sum([1 if d > delta else 0 for d in deltas]) / len(deltas)\n",
    "    \n",
    "    print(f\"Сравнение двух регрессий (bootstrap): delta = {delta}, p_value = {p_value}\")"
   ]
  },
  {
   "cell_type": "code",
   "execution_count": 5,
   "id": "4a550f1a",
   "metadata": {},
   "outputs": [],
   "source": [
    "N = 50\n",
    "selection = make_selection(N)\n",
    "# print_selection(selection)"
   ]
  },
  {
   "cell_type": "code",
   "execution_count": 39,
   "id": "164cdfc8",
   "metadata": {},
   "outputs": [
    {
     "name": "stdout",
     "output_type": "stream",
     "text": [
      "50 6\n"
     ]
    }
   ],
   "source": [
    "print(len(selection), len(selection[0]))"
   ]
  },
  {
   "cell_type": "code",
   "execution_count": 6,
   "id": "82b3f9c7",
   "metadata": {},
   "outputs": [
    {
     "name": "stdout",
     "output_type": "stream",
     "text": [
      "Оценка коэффициентов регрессии:\n",
      "[ 2.38126232  2.74952225 -1.97424737  0.46745371  0.83612617 -0.93704428]\n",
      "Коэффициент регрессии: 2.381, номер: 1, \n",
      "                p-value = 0.0, alpha = 0.0083: не значим\n",
      "Коэффициент регрессии: 2.75, номер: 2, \n",
      "                p-value = 2.13e-08, alpha = 0.01: не значим\n",
      "Коэффициент регрессии: -1.974, номер: 3, \n",
      "                p-value = 1.898e-06, alpha = 0.0125: не значим\n",
      "Коэффициент регрессии: -0.937, номер: 6,\n",
      "                p-value = 0.0197521904, alpha = 0.0167: значим\n",
      "Коэффициент регрессии: 0.836, номер: 5,\n",
      "                p-value = 0.0336356675, alpha = 0.0167: значим\n",
      "Коэффициент регрессии: 0.467, номер: 4,\n",
      "                p-value = 0.2465508899, alpha = 0.0167: значим\n"
     ]
    },
    {
     "data": {
      "text/plain": [
       "[2.8352323403859977e-14,\n",
       " 2.13364022378299e-08,\n",
       " 1.8980451125308784e-06,\n",
       " 0.24655088985351775,\n",
       " 0.033635667495261604,\n",
       " 0.019752190431291953]"
      ]
     },
     "execution_count": 6,
     "metadata": {},
     "output_type": "execute_result"
    }
   ],
   "source": [
    "Y = [selection[i][-1] for i in range(len(selection))]\n",
    "ksi = [[e for e in s[:-1]] for s in selection]\n",
    "betta_est, RSS, F = make_regression(ksi, Y)\n",
    "print(\"Оценка коэффициентов регрессии:\")\n",
    "print(betta_est)\n",
    "significance_regression_coefficients(betta_est, N, RSS, F)"
   ]
  },
  {
   "cell_type": "code",
   "execution_count": 7,
   "id": "c7b61b08",
   "metadata": {},
   "outputs": [
    {
     "name": "stdout",
     "output_type": "stream",
     "text": [
      "Переменная номер 1 , R**2 = 0.121, не существенно связана с остальными\n",
      "Переменная номер 2 , R**2 = 0.02, не существенно связана с остальными\n",
      "Переменная номер 3 , R**2 = 0.157, не существенно связана с остальными\n",
      "Переменная номер 4 , R**2 = 0.079, не существенно связана с остальными\n",
      "Переменная номер 5 , R**2 = 0.177, не существенно связана с остальными\n"
     ]
    }
   ],
   "source": [
    "check_multicollinearity(ksi)"
   ]
  },
  {
   "cell_type": "code",
   "execution_count": 8,
   "id": "acd850bb",
   "metadata": {},
   "outputs": [
    {
     "name": "stdout",
     "output_type": "stream",
     "text": [
      "Значимость регресии: delta = 25.146490607716366, p-value = 5.5688897937500315e-11\n",
      "Коэффициент детерминации: 0.6909042654344564\n"
     ]
    }
   ],
   "source": [
    "check_regression_significance(Y, RSS, N, len(ksi[0]))"
   ]
  },
  {
   "cell_type": "code",
   "execution_count": 9,
   "id": "4617530f",
   "metadata": {},
   "outputs": [
    {
     "name": "stdout",
     "output_type": "stream",
     "text": [
      "Прогноз: y0 = 2.3812623157526964, доверительный интервал: -0.609 < etta0 < 5.371\n"
     ]
    }
   ],
   "source": [
    "forecast([0, 0, 0, 0, 0], betta_est, F, N, len(ksi[0]), RSS)"
   ]
  },
  {
   "cell_type": "code",
   "execution_count": 10,
   "id": "0989d61b",
   "metadata": {},
   "outputs": [
    {
     "name": "stdout",
     "output_type": "stream",
     "text": [
      "Гипотеза о случайности ошибок измерения: \n",
      "            p-value = 0.15227638907215302, delta = 1.026719046282867, I = 673\n",
      "            H0: выборка получена из одного закона рспределения и элементы независимы\n"
     ]
    }
   ],
   "source": [
    "check_randomness_errors(Y, ksi, betta_est, N)"
   ]
  },
  {
   "cell_type": "code",
   "execution_count": 11,
   "id": "6ddeba1a",
   "metadata": {},
   "outputs": [
    {
     "name": "stdout",
     "output_type": "stream",
     "text": [
      "Гипотеза о нормальности ошибок измерения: \n",
      "            p-value = 0.0, delta = 2.7912779383520596, sigma_est = 2.532315670030363\n",
      "            H0: ошибки имеют нормальный закон распределения с параметрами (0, sigma ** 2)\n",
      "p-value = 1.5515153183143751e-07\n"
     ]
    },
    {
     "data": {
      "image/png": "[encoded data removed]",
      "text/plain": [
       "<Figure size 432x288 with 1 Axes>"
      ]
     },
     "metadata": {
      "needs_background": "light"
     },
     "output_type": "display_data"
    }
   ],
   "source": [
    "check_normality_errors(Y, N)"
   ]
  },
  {
   "cell_type": "code",
   "execution_count": 12,
   "id": "3f62f17d",
   "metadata": {},
   "outputs": [
    {
     "data": {
      "image/png": "[encoded data removed]",
      "text/plain": [
       "<Figure size 432x288 with 1 Axes>"
      ]
     },
     "metadata": {
      "needs_background": "light"
     },
     "output_type": "display_data"
    }
   ],
   "source": [
    "u = plt.boxplot(Y, vert=False)"
   ]
  },
  {
   "cell_type": "code",
   "execution_count": 13,
   "id": "bc4a8352",
   "metadata": {},
   "outputs": [
    {
     "name": "stdout",
     "output_type": "stream",
     "text": [
      "Кросс-проверка\n",
      "CVSS = 130.11471838657744\n",
      "R_CV ** 2 = 0.5859100776899308\n"
     ]
    }
   ],
   "source": [
    "cross_validation(Y, ksi)"
   ]
  },
  {
   "cell_type": "code",
   "execution_count": 14,
   "id": "37fd5117",
   "metadata": {},
   "outputs": [
    {
     "name": "stdout",
     "output_type": "stream",
     "text": [
      "Проверка адекватности: delta = 0.7367587978006125, p-value = 0.7362084432357319\n"
     ]
    }
   ],
   "source": [
    "check_adequacy(RSS, N, len(ksi[0]))"
   ]
  },
  {
   "cell_type": "code",
   "execution_count": 31,
   "id": "cec02d7a",
   "metadata": {},
   "outputs": [
    {
     "name": "stdout",
     "output_type": "stream",
     "text": [
      "Оценка коэффициентов регрессии:\n",
      "[ 2.37127303  3.00251321  0.42607761  0.75838018 -0.82451195]\n",
      "Коэффициент регрессии: 2.371, номер: 1, \n",
      "                p-value = 1e-10, alpha = 0.01: не значим\n",
      "Коэффициент регрессии: 3.003, номер: 2, \n",
      "                p-value = 5.441e-07, alpha = 0.0125: не значим\n",
      "Коэффициент регрессии: -0.825, номер: 5,\n",
      "                p-value = 0.1036544981, alpha = 0.0167: значим\n",
      "Коэффициент регрессии: 0.758, номер: 4,\n",
      "                p-value = 0.1279086419, alpha = 0.0167: значим\n",
      "Коэффициент регрессии: 0.426, номер: 3,\n",
      "                p-value = 0.4085483055, alpha = 0.0167: значим\n",
      "Значимость регресии: delta = 14.11655285846677, p-value = 1.177228158955046e-06\n",
      "Коэффициент детерминации: 0.47934150802923375\n"
     ]
    }
   ],
   "source": [
    "RSS0 = del_var(selection, 1, N)"
   ]
  },
  {
   "cell_type": "code",
   "execution_count": 37,
   "id": "65f18be8",
   "metadata": {},
   "outputs": [
    {
     "name": "stdout",
     "output_type": "stream",
     "text": [
      "Сравнение двух регрессий: delta = 30.800567651367047, p_value = 1.4471358736889428e-06\n"
     ]
    }
   ],
   "source": [
    "compare_regressions(RSS0, RSS, N, len(ksi[0]) - 1, len(ksi[0]))"
   ]
  },
  {
   "cell_type": "code",
   "execution_count": 47,
   "id": "d8f6876c",
   "metadata": {},
   "outputs": [
    {
     "name": "stdout",
     "output_type": "stream",
     "text": [
      "Сравнение двух регрессий (bootstrap): delta = 30.11611059244778, p_value = 0.519\n"
     ]
    }
   ],
   "source": [
    "compare_regressions_bootstrap(selection, 1)"
   ]
  },
  {
   "cell_type": "code",
   "execution_count": null,
   "id": "2ddf7e1a",
   "metadata": {},
   "outputs": [],
   "source": []
  },
  {
   "cell_type": "code",
   "execution_count": null,
   "id": "c07d18d3",
   "metadata": {},
   "outputs": [],
   "source": []
  },
  {
   "cell_type": "code",
   "execution_count": 20,
   "id": "360f05ac",
   "metadata": {},
   "outputs": [
    {
     "name": "stdout",
     "output_type": "stream",
     "text": [
      "[[1 3]\n",
      " [2 4]]\n",
      "[[ 5 11]\n",
      " [11 25]]\n",
      "[[-2.   1. ]\n",
      " [ 1.5 -0.5]]\n",
      "[[ -4  -8]\n",
      " [-12 -16]]\n",
      "[[2 4]\n",
      " [6 8]]\n"
     ]
    }
   ],
   "source": [
    "p = [[1, 2], [3, 4]]\n",
    "p = np.array(p)\n",
    "print(p.transpose())\n",
    "print(np.dot(p, p.transpose()))\n",
    "print(np.linalg.inv(p))\n",
    "print(p - p * 5)\n",
    "print(p * 2)"
   ]
  },
  {
   "cell_type": "code",
   "execution_count": null,
   "id": "efdda3a2",
   "metadata": {},
   "outputs": [],
   "source": []
  }
 ],
 "metadata": {
  "kernelspec": {
   "display_name": "Python 3 (ipykernel)",
   "language": "python",
   "name": "python3"
  },
  "language_info": {
   "codemirror_mode": {
    "name": "ipython",
    "version": 3
   },
   "file_extension": ".py",
   "mimetype": "text/x-python",
   "name": "python",
   "nbconvert_exporter": "python",
   "pygments_lexer": "ipython3",
   "version": "3.9.12"
  }
 },
 "nbformat": 4,
 "nbformat_minor": 5
}
