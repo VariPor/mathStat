{
 "cells": [
  {
   "cell_type": "code",
   "execution_count": 1,
   "id": "7ea627b7",
   "metadata": {},
   "outputs": [],
   "source": [
    "import numpy as np\n",
    "import matplotlib.pyplot as plt\n",
    "import statistics as st\n",
    "import seaborn as sns\n",
    "from random import randint\n",
    "from scipy.stats import norm\n",
    "import math\n",
    "\n",
    "def moment(xn, k=1):\n",
    "    return sum(x ** k for x in xn) / len(xn)\n",
    "\n",
    "def get_random_indexes(n):\n",
    "    return (randint(0, n - 1) for _ in range(n))\n",
    "\n",
    "def make_bootstrap(xn, m):\n",
    "    res = []\n",
    "    for _ in range(m):\n",
    "        res.append([xn[i] for i in get_random_indexes(len(xn))])\n",
    "    return res\n",
    "\n",
    "def estimation_OMP(xn):\n",
    "    return len(xn) / sum(np.log(xi) for xi in xn) + 1\n",
    "\n",
    "\n",
    "def make_bootstrap_interval_par(xn, m, estimation, betta, name, tetta_est):\n",
    "    bootstrap = []\n",
    "    for _ in range(m):\n",
    "        bootstrap.append(make_selection(tetta_est, len(xn)))\n",
    "    var_row = []\n",
    "    for b in bootstrap:\n",
    "        var_row.append(estimation(b))\n",
    "    var_row = np.sort(np.array(var_row))\n",
    "    k1 = math.floor((1 - betta) / 2 * m)\n",
    "    k2 = math.floor((1 + betta) / 2 * m)\n",
    "    print(f'''Доверительный интервал (параметрический, bootstrap, {name}): \n",
    "                {var_row[k1]} < tetta < {var_row[k2]}''')\n",
    "    print(\"Его длина:\", var_row[k2] - var_row[k1])\n",
    "    return var_row[k1], var_row[k2]\n",
    "\n",
    "def make_bootstrap_interval_not_par(xn, m, tetta_est, estimation, betta, name, bootstrap):\n",
    "    var_row = []\n",
    "    for b in bootstrap:\n",
    "        var_row.append(estimation(b) - tetta_est)\n",
    "    var_row = np.sort(np.array(var_row))\n",
    "    k1 = math.floor((1 - betta) / 2 * m)\n",
    "    k2 = math.floor((1 + betta) / 2 * m)\n",
    "    print(f'''Доверительный интервал (непараметрический, bootstrap, {name}): \n",
    "                {-var_row[k2] + tetta_est} < tetta < {-var_row[k1] + tetta_est}''')\n",
    "    print(\"Его длина:\", var_row[k2] - var_row[k1])\n",
    "    return -var_row[k2] + tetta_est, -var_row[k1] + tetta_est\n",
    "\n",
    "def central_moment(xn, k=2):\n",
    "    return sum((x - moment(xn, 1)) ** k for x in xn) / len(xn)\n",
    "\n",
    "def make_selection(tetta, n):\n",
    "    etta = np.random.uniform(low=0, high=1, size=n)\n",
    "    xn = [(1 - t) ** (1 / (1 - tetta)) for t in etta]\n",
    "    return xn\n",
    "    \n",
    "def print_characteristics(tetta, n):\n",
    "    xn = make_selection(tetta, n) \n",
    "    print(\"выборка:\", np.sort(np.array(xn)))\n",
    "\n",
    "    \n",
    "    betta = 0.95\n",
    "    tetta_est = estimation_OMP(xn)\n",
    "    \n",
    "    apm1 = -1.96 * np.log(2) * 2 ** (1 / (tetta_est - 1)) / (tetta_est - 1) / n ** 0.5 + np.median(xn)\n",
    "    apm2 = 1.96 * np.log(2) * 2 ** (1 / (tetta_est - 1)) / (tetta_est - 1) / n ** 0.5 + np.median(xn)\n",
    "    print(\"асимтотический доверительный интервал для медианы ОМП:\", apm1, \"< tetta <\", apm2)\n",
    "    print(\"Его длина:\", apm2 - apm1)\n",
    "    \n",
    "    ap1 = -1.96 * (tetta_est - 1) / n ** 0.5 + tetta\n",
    "    ap2 = 1.96 * (tetta_est - 1) / n ** 0.5 + tetta\n",
    "    print(\"асимтотический доверительный интервал для tetta ОМП:\", ap1, \"< tetta <\", ap2)\n",
    "    print(\"Его длина:\", ap2 - ap1)\n",
    "    \n",
    "    m = 50000\n",
    "    bootstrap = make_bootstrap(xn, m)\n",
    "    OMP_t1, OMP_t2 = make_bootstrap_interval_par(xn, m, estimation_OMP, 0.95, \"OMP\", tetta_est)\n",
    "    OMP_Nt1, OMP_Nt2 = make_bootstrap_interval_not_par(xn, m, tetta_est, estimation_OMP, 0.95, \"OMP\", bootstrap)\n",
    "    \n",
    "    plt.grid(True)\n",
    "    plt.plot((ap1, ap2), (1, 1), label=\"асимтотический ОМП, tetta\")\n",
    "    plt.plot((apm1, apm2), (0, 0), label=\"асимтотический ОМП, медиана\")\n",
    "    plt.plot((OMP_t1, OMP_t2), (2, 2), label= \"параметрический, bootstrap, ОМП\")\n",
    "    plt.plot((OMP_Nt1, OMP_Nt2), (3, 3), label= \"непараметрический, bootstrap, ОМП\")\n",
    "    plt.legend(bbox_to_anchor=(1.07, 1), loc='upper left')\n",
    "    plt.tight_layout()"
   ]
  },
  {
   "cell_type": "code",
   "execution_count": 2,
   "id": "13abdd8e",
   "metadata": {},
   "outputs": [
    {
     "name": "stdout",
     "output_type": "stream",
     "text": [
      "выборка: [1.00057233 1.00062134 1.00539701 1.00625145 1.00748835 1.0163908\n",
      " 1.01942269 1.0309812  1.03206696 1.03228194 1.03462465 1.03594257\n",
      " 1.03723071 1.04535419 1.04820586 1.05823728 1.06354665 1.08202311\n",
      " 1.08425764 1.08452464 1.08496219 1.08762168 1.09252725 1.094193\n",
      " 1.09667952 1.10471909 1.10643704 1.10818183 1.11075264 1.11334954\n",
      " 1.12223753 1.12488031 1.13261945 1.15208651 1.16680411 1.18020625\n",
      " 1.1820836  1.18215681 1.18961531 1.19283583 1.20656853 1.20940162\n",
      " 1.22748584 1.2277207  1.2293172  1.23822628 1.24233496 1.252355\n",
      " 1.25500522 1.26488553 1.26980763 1.28040938 1.28925032 1.31223675\n",
      " 1.32990722 1.33398429 1.33739458 1.34385469 1.34423951 1.36041659\n",
      " 1.40207615 1.40680754 1.46674985 1.47506015 1.49400712 1.49893767\n",
      " 1.50213641 1.51550805 1.54330737 1.55955121 1.56783752 1.60368867\n",
      " 1.65859937 1.72209503 1.74101093 1.75139242 1.76355556 1.79633885\n",
      " 1.8649006  1.86967025 1.8728956  1.88606866 1.90263732 1.90263939\n",
      " 1.91842676 1.93338864 1.97510976 2.01923905 2.07414888 2.11953497\n",
      " 2.37112286 2.40960511 2.46226554 2.49149529 2.51565991 2.67977935\n",
      " 2.8924359  2.90451108 3.01822362 3.78007113]\n",
      "асимтотический доверительный интервал для медианы ОМП: 1.2083538741451638 < tetta < 1.3263392770168856\n",
      "Его длина: 0.11798540287172177\n",
      "асимтотический доверительный интервал для tetta ОМП: 3.427687602934034 < tetta < 4.572312397065966\n",
      "Его длина: 1.144624794131932\n",
      "Доверительный интервал (параметрический, bootstrap, OMP): \n",
      "                3.423492086073669 < tetta < 4.593295401952023\n",
      "Его длина: 1.169803315878354\n",
      "Доверительный интервал (непараметрический, bootstrap, OMP): \n",
      "                3.319209617309072 < tetta < 4.3611991434878705\n",
      "Его длина: 1.0419895261787984\n"
     ]
    },
    {
     "data": {
      "image/png": "[encoded data removed]",
      "text/plain": [
       "<Figure size 432x288 with 1 Axes>"
      ]
     },
     "metadata": {
      "needs_background": "light"
     },
     "output_type": "display_data"
    }
   ],
   "source": [
    "print_characteristics(4, 100)"
   ]
  },
  {
   "cell_type": "code",
   "execution_count": null,
   "id": "4587694d",
   "metadata": {},
   "outputs": [],
   "source": []
  },
  {
   "cell_type": "code",
   "execution_count": null,
   "id": "26f51037",
   "metadata": {},
   "outputs": [],
   "source": []
  }
 ],
 "metadata": {
  "kernelspec": {
   "display_name": "Python 3 (ipykernel)",
   "language": "python",
   "name": "python3"
  },
  "language_info": {
   "codemirror_mode": {
    "name": "ipython",
    "version": 3
   },
   "file_extension": ".py",
   "mimetype": "text/x-python",
   "name": "python",
   "nbconvert_exporter": "python",
   "pygments_lexer": "ipython3",
   "version": "3.9.12"
  }
 },
 "nbformat": 4,
 "nbformat_minor": 5
}
