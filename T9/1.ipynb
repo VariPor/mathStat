{
 "cells": [
  {
   "cell_type": "code",
   "execution_count": 5,
   "id": "8cd80c20",
   "metadata": {},
   "outputs": [
    {
     "name": "stdout",
     "output_type": "stream",
     "text": [
      "      fun: 226.83238929169167\n",
      " hess_inv: array([[0.07404543, 0.00071116],\n",
      "       [0.00071116, 0.04285185]])\n",
      "      jac: array([ 0.00000000e+00, -1.90734863e-06])\n",
      "  message: 'Optimization terminated successfully.'\n",
      "     nfev: 78\n",
      "      nit: 23\n",
      "     njev: 26\n",
      "   status: 0\n",
      "  success: True\n",
      "        x: array([5.28967662, 2.6795194 ])\n"
     ]
    }
   ],
   "source": [
    "import scipy.integrate as spi\n",
    "from scipy.optimize import minimize\n",
    "import numpy as np\n",
    "\n",
    "def f(x, a, sigma):\n",
    "    return np.exp(-((x - a) / sigma) ** 2 / 2) / (2 * np.pi) ** 0.5 / sigma\n",
    "\n",
    "def p(a, b, x):\n",
    "    if a == 0:\n",
    "        a = -np.inf\n",
    "    if b == 10:\n",
    "        b = np.inf\n",
    "    return (spi.quad(f, a, b, args=(x[0], x[1])))[0]\n",
    "\n",
    "def ln_p(a, b, x):\n",
    "    q = p(a, b, x) \n",
    "    if (q <= 0):\n",
    "        return -10000\n",
    "    return np.log(q)\n",
    "\n",
    "def L(x):\n",
    "    return -(5 * ln_p(0, 1, x) + \\\n",
    "           8 * ln_p(1, 2, x) + \\\n",
    "           6 * ln_p(2, 3, x) + \\\n",
    "           12 * ln_p(3, 4, x) + \\\n",
    "           14 * ln_p(4, 5, x) + \\\n",
    "           18 * ln_p(5, 6, x) + \\\n",
    "           11 * ln_p(6, 7, x) + \\\n",
    "           6 * ln_p(7, 8, x) + \\\n",
    "           13 * ln_p(8, 9, x) + \\\n",
    "           7 * ln_p(9, 10, x))\n",
    "\n",
    "x0 = np.array([0.5, 0.5])\n",
    "res = minimize(L, x0)\n",
    "print(res)"
   ]
  },
  {
   "cell_type": "code",
   "execution_count": 6,
   "id": "46b8ff4a",
   "metadata": {},
   "outputs": [
    {
     "name": "stdout",
     "output_type": "stream",
     "text": [
      "a = 5.289676615918556, sigma = 2.679519400568314\n",
      "np0 = 5.469812907509886\n",
      "np1 = 5.507952653914021\n",
      "np2 = 8.663352895087845\n",
      "np3 = 11.873729101071206\n",
      "np4 = 14.180666395463327\n",
      "np5 = 14.75761730912172\n",
      "np6 = 13.38277994377551\n",
      "np7 = 10.575136101990633\n",
      "np8 = 7.281701038599657\n",
      "np9 = 8.307251653466206\n",
      "delta_est = 9.802555481123795\n"
     ]
    }
   ],
   "source": [
    "a, sigma = res.x\n",
    "print(f\"a = {a}, sigma = {sigma}\")\n",
    "\n",
    "n = 100\n",
    "mi = [5, 8, 6, 12, 14, 18, 11, 6, 13, 7]\n",
    "npi = [p(i, (i + 1), res.x) * n for i in range(len(mi))]\n",
    "for i in range(len(npi)):\n",
    "    print(f\"np{i} =\", npi[i])\n",
    "    \n",
    "delta_est = sum((mi[i] - npi[i]) ** 2 / npi[i] for i in range(len(mi)))\n",
    "\n",
    "print(\"delta_est =\", delta_est)"
   ]
  },
  {
   "cell_type": "code",
   "execution_count": null,
   "id": "8aa4b990",
   "metadata": {},
   "outputs": [],
   "source": []
  },
  {
   "cell_type": "code",
   "execution_count": 7,
   "id": "b2f249fb",
   "metadata": {},
   "outputs": [],
   "source": [
    "Ai = [5, 8, 6, 12, 14, 18, 11, 6, 13, 7]\n",
    "xn = []\n",
    "for i in range(10):\n",
    "    xn += [i] * Ai[i]"
   ]
  },
  {
   "cell_type": "code",
   "execution_count": 8,
   "id": "45c34ea3",
   "metadata": {},
   "outputs": [
    {
     "name": "stdout",
     "output_type": "stream",
     "text": [
      "delta_est 2.7255068814367487\n",
      "p-value 0.36238\n"
     ]
    }
   ],
   "source": [
    "from scipy.stats import norm \n",
    "from scipy.stats import moment\n",
    "import numpy as np\n",
    "\n",
    "def F_emp(xn, x):\n",
    "    return sum([1 if i <= x else 0 for i in xn]) / len(xn)\n",
    "\n",
    "\n",
    "def delta(xn):\n",
    "    res = 0\n",
    "    a = np.mean(xn)\n",
    "    sigma = len(xn) / (len(xn) - 1) * moment(xn, moment=2)\n",
    "    for i in range(10):\n",
    "        res = max(res, abs(norm.cdf(i, loc=a, scale=sigma) - F_emp(xn, i)), \\\n",
    "                  abs(norm.cdf(i, loc=a, scale=sigma) - F_emp(xn, i + 1)))\n",
    "    return res * len(xn) ** 0.5\n",
    "\n",
    "def make_bootstrap_distribution(n, N, xn):\n",
    "    deltas_row = []\n",
    "    a = np.mean(xn)\n",
    "    sigma = len(xn) / (len(xn) - 1) * moment(xn, moment=2)\n",
    "    for _ in range(N):\n",
    "        xn = norm.rvs(loc=a, scale=sigma, size=n)\n",
    "        deltas_row.append(delta(xn))\n",
    "    sorted(deltas_row)\n",
    "    \n",
    "    delta_est = delta(xn)\n",
    "    print(\"delta_est\", delta_est)\n",
    "    p_value = sum([1 if i >= delta_est else 0 for i in deltas_row]) / N\n",
    "    print(\"p-value\", p_value)\n",
    "    return deltas_row\n",
    "\n",
    "deltas_row = make_bootstrap_distribution(100, 50000, xn)\n"
   ]
  },
  {
   "cell_type": "code",
   "execution_count": 9,
   "id": "567205cc",
   "metadata": {},
   "outputs": [
    {
     "name": "stdout",
     "output_type": "stream",
     "text": [
      "3.0522782954524974\n"
     ]
    }
   ],
   "source": [
    "print(delta(xn))"
   ]
  },
  {
   "cell_type": "code",
   "execution_count": 10,
   "id": "ff14f377",
   "metadata": {},
   "outputs": [
    {
     "name": "stdout",
     "output_type": "stream",
     "text": [
      "4.77 6.340505050505054\n"
     ]
    }
   ],
   "source": [
    "a = np.mean(xn)\n",
    "sigma = len(xn) / (len(xn) - 1) * moment(xn, moment=2)\n",
    "print(a, sigma)"
   ]
  },
  {
   "cell_type": "code",
   "execution_count": null,
   "id": "bb49eb17",
   "metadata": {},
   "outputs": [],
   "source": []
  },
  {
   "cell_type": "code",
   "execution_count": null,
   "id": "1d3f4849",
   "metadata": {},
   "outputs": [],
   "source": []
  }
 ],
 "metadata": {
  "kernelspec": {
   "display_name": "Python 3 (ipykernel)",
   "language": "python",
   "name": "python3"
  },
  "language_info": {
   "codemirror_mode": {
    "name": "ipython",
    "version": 3
   },
   "file_extension": ".py",
   "mimetype": "text/x-python",
   "name": "python",
   "nbconvert_exporter": "python",
   "pygments_lexer": "ipython3",
   "version": "3.9.12"
  }
 },
 "nbformat": 4,
 "nbformat_minor": 5
}
