{
 "cells": [
  {
   "cell_type": "code",
   "execution_count": 248,
   "id": "a3c81da0",
   "metadata": {},
   "outputs": [],
   "source": [
    "Y = [1, 5, 2]\n",
    "ksi = [(1, 0), (0, 1), (1, 1)]\n",
    "#Y = [1, 1, 2]\n",
    "#ksi = [(1, 0), (0, 1), (1, 5)]"
   ]
  },
  {
   "cell_type": "code",
   "execution_count": 249,
   "id": "f0ea8e77",
   "metadata": {},
   "outputs": [],
   "source": [
    "import numpy as np\n",
    "from scipy.stats import uniform, norm, t, f, kstest\n",
    "from scipy.optimize import minimize\n",
    "import matplotlib.pyplot as plt\n",
    "\n",
    "def make_regression(ksi, Y):\n",
    "    Psi = np.array(ksi)\n",
    "    Y = np.array(Y)\n",
    "    F = np.dot(Psi.transpose(), Psi)\n",
    "    F_1 = np.linalg.inv(F)\n",
    "    betta_est = np.dot(np.dot(F_1, Psi.transpose()), Y)\n",
    "    e = np.dot(Psi, betta_est) - Y\n",
    "\n",
    "    return betta_est, e, F\n",
    "    \n",
    "    "
   ]
  },
  {
   "cell_type": "code",
   "execution_count": null,
   "id": "460a1c63",
   "metadata": {},
   "outputs": [],
   "source": []
  },
  {
   "cell_type": "code",
   "execution_count": 250,
   "id": "8ff83e01",
   "metadata": {},
   "outputs": [],
   "source": [
    "def ridge(Y, ksi):\n",
    "    CVSS = []\n",
    "    k = []\n",
    "    \n",
    "    ksi = np.array(ksi)\n",
    "    Y = np.array(Y)\n",
    "    Psi = np.array(ksi)\n",
    "    \n",
    "    z = np.arange(0, 10, 0.1)\n",
    "    \n",
    "    for j in range(len(z)):\n",
    "        dots = []\n",
    "        CVSS_i = []\n",
    "        for i in range(len(Y)):\n",
    "            Psi0 = np.delete(Psi, i, 0)\n",
    "            Y0 = np.delete(Y, i, 0)\n",
    "            L = lambda b: np.dot((Y0 - np.dot(Psi0, b)).transpose(), Y0 - np.dot(Psi0, b)) + \\\n",
    "            z[j] * np.dot(b.transpose(), b)\n",
    "            dot = minimize(L, np.array([0, 0])).x\n",
    "            e = Y[i] - np.dot(Psi0, dot)\n",
    "            CVSS_i.append(np.dot(e.transpose(), e))\n",
    "        CVSS.append(sum(CVSS_i))\n",
    "        k.append(z[j])\n",
    "    return k, CVSS"
   ]
  },
  {
   "cell_type": "code",
   "execution_count": 251,
   "id": "82140f60",
   "metadata": {},
   "outputs": [],
   "source": [
    "x, y = ridge(Y, ksi)"
   ]
  },
  {
   "cell_type": "code",
   "execution_count": 252,
   "id": "df3df9e9",
   "metadata": {},
   "outputs": [
    {
     "data": {
      "image/png": "[encoded data removed]",
      "text/plain": [
       "<Figure size 432x288 with 1 Axes>"
      ]
     },
     "metadata": {
      "needs_background": "light"
     },
     "output_type": "display_data"
    }
   ],
   "source": [
    "plt.scatter(x, y)\n",
    "plt.grid(True)"
   ]
  },
  {
   "cell_type": "code",
   "execution_count": null,
   "id": "fa43b741",
   "metadata": {},
   "outputs": [],
   "source": []
  },
  {
   "cell_type": "code",
   "execution_count": 253,
   "id": "88dd2de0",
   "metadata": {},
   "outputs": [],
   "source": [
    "def result_ridge():\n",
    "    lambda0 = 1.86\n",
    "    Psi = np.array(ksi)\n",
    "    L = lambda b: np.dot((Y - np.dot(Psi, b)).transpose(), Y - np.dot(Psi, b)) + \\\n",
    "                lambda0 * np.dot(b.transpose(), b)\n",
    "    dot = minimize(L, np.array([0, 0])).x\n",
    "    \n",
    "    print(\"Коэффициенты ridge регрессии:\")\n",
    "    print(dot)\n",
    "    print(\"Параметр регуляризации: lambda0 =\", lambda0)"
   ]
  },
  {
   "cell_type": "code",
   "execution_count": null,
   "id": "b598d055",
   "metadata": {},
   "outputs": [],
   "source": []
  },
  {
   "cell_type": "code",
   "execution_count": null,
   "id": "6e7d44f0",
   "metadata": {},
   "outputs": [],
   "source": []
  },
  {
   "cell_type": "code",
   "execution_count": 254,
   "id": "14e58c65",
   "metadata": {},
   "outputs": [],
   "source": [
    "def lasso(Y, ksi):\n",
    "    CVSS = []\n",
    "    k = []\n",
    "    \n",
    "    ksi = np.array(ksi)\n",
    "    Y = np.array(Y)\n",
    "    Psi = np.array(ksi)\n",
    "    \n",
    "    z = np.arange(0, 10, 0.1)\n",
    "    \n",
    "    for j in range(len(z)):\n",
    "        dots = []\n",
    "        CVSS_i = []\n",
    "        for i in range(len(Y)):\n",
    "            Psi0 = np.delete(Psi, i, 0)\n",
    "            Y0 = np.delete(Y, i, 0)\n",
    "            L = lambda b: np.dot((Y0 - np.dot(Psi0, b)).transpose(), Y0 - np.dot(Psi0, b)) + \\\n",
    "            z[j] * sum([abs(bi) for bi in b])\n",
    "            dot = minimize(L, np.array([0, 0])).x\n",
    "            e = Y[i] - np.dot(Psi0, dot)\n",
    "            CVSS_i.append(np.dot(e.transpose(), e))\n",
    "        CVSS.append(sum(CVSS_i))\n",
    "        k.append(z[j])\n",
    "    return k, CVSS"
   ]
  },
  {
   "cell_type": "code",
   "execution_count": 255,
   "id": "2daceb92",
   "metadata": {},
   "outputs": [],
   "source": [
    "xl, yl = lasso(Y, ksi)"
   ]
  },
  {
   "cell_type": "code",
   "execution_count": 256,
   "id": "73214719",
   "metadata": {},
   "outputs": [
    {
     "data": {
      "text/plain": [
       "<matplotlib.collections.PathCollection at 0x2d8d2df1370>"
      ]
     },
     "execution_count": 256,
     "metadata": {},
     "output_type": "execute_result"
    },
    {
     "data": {
      "image/png": "[encoded data removed]",
      "text/plain": [
       "<Figure size 432x288 with 1 Axes>"
      ]
     },
     "metadata": {
      "needs_background": "light"
     },
     "output_type": "display_data"
    }
   ],
   "source": [
    "plt.scatter(xl, yl)"
   ]
  },
  {
   "cell_type": "code",
   "execution_count": 257,
   "id": "7f88197e",
   "metadata": {},
   "outputs": [],
   "source": [
    "def result_lasso():\n",
    "    lambda0 = 4\n",
    "    Psi = np.array(ksi)\n",
    "    L = lambda b: np.dot((Y - np.dot(Psi, b)).transpose(), Y - np.dot(Psi, b)) + \\\n",
    "                lambda0 * sum([abs(bi) for bi in b])\n",
    "    dot = minimize(L, np.array([0, 0])).x\n",
    "    \n",
    "    print(\"Коэффициенты lasso регрессии:\")\n",
    "    print(dot)\n",
    "    print(\"Параметр регуляризации: lambda0 =\", lambda0)"
   ]
  },
  {
   "cell_type": "code",
   "execution_count": 258,
   "id": "ac82db26",
   "metadata": {},
   "outputs": [
    {
     "name": "stdout",
     "output_type": "stream",
     "text": [
      "Коэффициенты lasso регрессии:\n",
      "[-2.87014785e-09  2.43726446e+00]\n",
      "Параметр регуляризации: lambda0 = 4\n"
     ]
    }
   ],
   "source": [
    "result_lasso()"
   ]
  },
  {
   "cell_type": "code",
   "execution_count": 259,
   "id": "f60bf7fa",
   "metadata": {},
   "outputs": [
    {
     "name": "stdout",
     "output_type": "stream",
     "text": [
      "Коэффициенты ridge регрессии:\n",
      "[0.32950586 1.72810727]\n",
      "Параметр регуляризации: lambda0 = 1.86\n"
     ]
    }
   ],
   "source": [
    "result_ridge()"
   ]
  },
  {
   "cell_type": "code",
   "execution_count": 260,
   "id": "758bad96",
   "metadata": {},
   "outputs": [
    {
     "name": "stdout",
     "output_type": "stream",
     "text": [
      "[-0.33333333  3.66666667]\n"
     ]
    }
   ],
   "source": [
    "betta_est, e, F = make_regression(ksi, Y)\n",
    "print(betta_est)"
   ]
  },
  {
   "cell_type": "code",
   "execution_count": 236,
   "id": "39915fcf",
   "metadata": {},
   "outputs": [
    {
     "name": "stdout",
     "output_type": "stream",
     "text": [
      "[[ 2  5]\n",
      " [ 5 26]]\n"
     ]
    }
   ],
   "source": [
    "print(F)"
   ]
  },
  {
   "cell_type": "code",
   "execution_count": 237,
   "id": "2747c211",
   "metadata": {},
   "outputs": [
    {
     "name": "stdout",
     "output_type": "stream",
     "text": [
      "[(1, 0), (0, 1), (1, 5)]\n"
     ]
    }
   ],
   "source": [
    "print(ksi)"
   ]
  },
  {
   "cell_type": "code",
   "execution_count": null,
   "id": "03d9b156",
   "metadata": {},
   "outputs": [],
   "source": []
  }
 ],
 "metadata": {
  "kernelspec": {
   "display_name": "Python 3 (ipykernel)",
   "language": "python",
   "name": "python3"
  },
  "language_info": {
   "codemirror_mode": {
    "name": "ipython",
    "version": 3
   },
   "file_extension": ".py",
   "mimetype": "text/x-python",
   "name": "python",
   "nbconvert_exporter": "python",
   "pygments_lexer": "ipython3",
   "version": "3.9.12"
  }
 },
 "nbformat": 4,
 "nbformat_minor": 5
}
